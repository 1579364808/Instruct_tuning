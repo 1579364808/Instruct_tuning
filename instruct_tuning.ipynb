{
 "cells": [
  {
   "cell_type": "code",
   "id": "initial_id",
   "metadata": {
    "collapsed": true,
    "ExecuteTime": {
     "end_time": "2025-03-02T02:03:08.755110Z",
     "start_time": "2025-03-02T02:03:08.737483Z"
    }
   },
   "source": [
    "import openai\n",
    "# 设置API密钥和自定义域名\n",
    "openai.base_url = \"https://api.deepseek.com/v1/\"\n",
    "openai.api_key = \"sk-4de30bd17dd14025be5f1eb9166cd4ad\""
   ],
   "outputs": [],
   "execution_count": 25
  },
  {
   "metadata": {
    "ExecuteTime": {
     "end_time": "2025-03-02T02:03:22.181147Z",
     "start_time": "2025-03-02T02:03:10.285994Z"
    }
   },
   "cell_type": "code",
   "source": [
    "from datasets import load_dataset\n",
    "test_dataset = load_dataset(\"glue\", \"sst2\", split=\"test\")"
   ],
   "id": "fbc0f3ede4658cf5",
   "outputs": [],
   "execution_count": 26
  },
  {
   "metadata": {
    "ExecuteTime": {
     "end_time": "2025-03-02T02:03:23.588990Z",
     "start_time": "2025-03-02T02:03:23.573266Z"
    }
   },
   "cell_type": "code",
   "source": "len(test_dataset)",
   "id": "ef892ed9b383552",
   "outputs": [
    {
     "data": {
      "text/plain": [
       "1821"
      ]
     },
     "execution_count": 27,
     "metadata": {},
     "output_type": "execute_result"
    }
   ],
   "execution_count": 27
  },
  {
   "metadata": {
    "ExecuteTime": {
     "end_time": "2025-03-02T02:03:26.182604Z",
     "start_time": "2025-03-02T02:03:26.166640Z"
    }
   },
   "cell_type": "code",
   "source": [
    "# 自定义prompt模板\n",
    "def build_prompt(text):\n",
    "    return f\"\"\"\n",
    "Below is an instruction that describes a task,\n",
    "paired with an input that provides further context. Write a\n",
    "response that appropriately completes the request.\n",
    "Before answering, think carefully about the question and\n",
    "create a step-by-step chain of thoughts to ensure a logical\n",
    "and accurate response.\n",
    "\n",
    "### Instruction:\n",
    "Analyze the given online review text and determine the sentiment polarity.\n",
    "Return only a single number: 0 for negative sentiment or 1 for positive sentiment.\n",
    "Do not include any additional text, explanations, or symbols. If you do not return exactly '0' or '1', the output will be considered invalid.\n",
    "\n",
    "### Input:\n",
    "{text}\n",
    "\n",
    "### Response:\"\"\""
   ],
   "id": "403c9a9285d6124e",
   "outputs": [],
   "execution_count": 28
  },
  {
   "metadata": {
    "ExecuteTime": {
     "end_time": "2025-03-02T02:03:28.214867Z",
     "start_time": "2025-03-02T02:03:28.196491Z"
    }
   },
   "cell_type": "code",
   "source": [
    "# # 以测试集中的第一个样本为例\n",
    "# sample_text = test_dataset[0]['sentence']\n",
    "# test_dataset[0]"
   ],
   "id": "dbd6aa18c0f120ca",
   "outputs": [
    {
     "data": {
      "text/plain": [
       "{'sentence': 'uneasy mishmash of styles and genres .', 'label': -1, 'idx': 0}"
      ]
     },
     "execution_count": 29,
     "metadata": {},
     "output_type": "execute_result"
    }
   ],
   "execution_count": 29
  },
  {
   "metadata": {
    "ExecuteTime": {
     "end_time": "2025-03-02T02:03:34.884940Z",
     "start_time": "2025-03-02T02:03:34.866542Z"
    }
   },
   "cell_type": "code",
   "source": [
    "# # 以测试集中的第一个样本为例\n",
    "# sample_text = test_dataset[0]['sentence']\n",
    "# prompt = build_prompt(sample_text)"
   ],
   "id": "f63a101366330d1f",
   "outputs": [],
   "execution_count": 30
  },
  {
   "metadata": {
    "ExecuteTime": {
     "end_time": "2025-03-02T02:04:07.624426Z",
     "start_time": "2025-03-02T02:03:36.752261Z"
    }
   },
   "cell_type": "code",
   "source": [
    "# response = openai.chat.completions.create(\n",
    "#     model=\"deepseek-reasoner\",\n",
    "#     messages=[\n",
    "#         {\"role\": \"user\", \"content\": prompt}\n",
    "#     ],\n",
    "#     max_tokens=500,\n",
    "#     temperature=0\n",
    "# )\n",
    "# response"
   ],
   "id": "fce339cd2ba07f64",
   "outputs": [
    {
     "data": {
      "text/plain": [
       "ChatCompletion(id='36c07eb8-47f1-454b-9085-9ca295ee2d5a', choices=[Choice(finish_reason='stop', index=0, logprobs=None, message=ChatCompletionMessage(content='0', refusal=None, role='assistant', audio=None, function_call=None, tool_calls=None, reasoning_content='Okay, let\\'s see. I need to figure out the sentiment polarity of the review text \"uneasy mishmash of styles and genres.\" The output should be either 0 for negative or 1 for positive. Alright, first, let\\'s break down the sentence.\\n\\nThe key words here are \"uneasy\" and \"mishmash.\" \"Uneasy\" usually has a negative connotation, implying discomfort or something not quite right. Then \"mishmash\" means a confused mixture, which isn\\'t a positive description. When someone describes a creative work as a mishmash, especially with \"uneasy,\" they\\'re probably criticizing it for being disjointed or poorly blended. \\n\\nSo putting those together, the reviewer is saying that the combination of styles and genres isn\\'t working well. That sounds negative. Therefore, the sentiment polarity should be 0.'))], created=1740881015, model='deepseek-reasoner', object='chat.completion', service_tier=None, system_fingerprint='fp_5417b77867_prod0225', usage=CompletionUsage(completion_tokens=180, prompt_tokens=143, total_tokens=323, completion_tokens_details=CompletionTokensDetails(accepted_prediction_tokens=None, audio_tokens=None, reasoning_tokens=177, rejected_prediction_tokens=None), prompt_tokens_details=PromptTokensDetails(audio_tokens=None, cached_tokens=0), prompt_cache_hit_tokens=0, prompt_cache_miss_tokens=143))"
      ]
     },
     "execution_count": 31,
     "metadata": {},
     "output_type": "execute_result"
    }
   ],
   "execution_count": 31
  },
  {
   "metadata": {
    "ExecuteTime": {
     "end_time": "2025-03-02T02:05:13.174065Z",
     "start_time": "2025-03-02T02:05:13.160787Z"
    }
   },
   "cell_type": "code",
   "source": "# response.choices[0].message.reasoning_content",
   "id": "9eed28769d31017a",
   "outputs": [
    {
     "data": {
      "text/plain": [
       "'Okay, let\\'s see. I need to figure out the sentiment polarity of the review text \"uneasy mishmash of styles and genres.\" The output should be either 0 for negative or 1 for positive. Alright, first, let\\'s break down the sentence.\\n\\nThe key words here are \"uneasy\" and \"mishmash.\" \"Uneasy\" usually has a negative connotation, implying discomfort or something not quite right. Then \"mishmash\" means a confused mixture, which isn\\'t a positive description. When someone describes a creative work as a mishmash, especially with \"uneasy,\" they\\'re probably criticizing it for being disjointed or poorly blended. \\n\\nSo putting those together, the reviewer is saying that the combination of styles and genres isn\\'t working well. That sounds negative. Therefore, the sentiment polarity should be 0.'"
      ]
     },
     "execution_count": 32,
     "metadata": {},
     "output_type": "execute_result"
    }
   ],
   "execution_count": 32
  },
  {
   "metadata": {
    "ExecuteTime": {
     "end_time": "2025-03-02T01:59:28.526389Z",
     "start_time": "2025-03-02T01:59:28.516764Z"
    }
   },
   "cell_type": "code",
   "source": [
    "# import re\n",
    "#\n",
    "# raw_output = response.choices[0].message.content\n",
    "# matches = re.findall(r'(-1|1)', raw_output)\n",
    "# result = matches[-1] if matches else None\n",
    "# result"
   ],
   "id": "39485e474b056547",
   "outputs": [],
   "execution_count": 20
  },
  {
   "metadata": {
    "ExecuteTime": {
     "end_time": "2025-03-02T02:05:41.894198Z",
     "start_time": "2025-03-02T02:05:41.870937Z"
    }
   },
   "cell_type": "code",
   "source": [
    "import re\n",
    "import time\n",
    "import random\n",
    "\n",
    "def get_prediction(prompt, max_retries=5):\n",
    "    \"\"\"使用二进制指数退避算法进行 API 重试，确保返回 0 或 1\"\"\"\n",
    "    base_delay = 1  # 基础等待时间（秒）\n",
    "    max_delay = 60  # 最大等待时间（秒）\n",
    "    attempt = 0\n",
    "\n",
    "    while attempt <= max_retries:\n",
    "        try:\n",
    "            response = openai.chat.completions.create(\n",
    "                model=\"deepseek-reasoner\",\n",
    "                messages=[{\"role\": \"user\", \"content\": prompt}],\n",
    "                max_tokens=100,  # 限制输出字符数，避免生成无关内容\n",
    "                temperature=0\n",
    "            )\n",
    "\n",
    "            # 解析输出\n",
    "            raw_output = response.choices[0].message.content.strip()\n",
    "\n",
    "            # 使用正则表达式匹配最后一个 '0' 或 '1'\n",
    "            matches = re.findall(r'\\b[01]\\b', raw_output)  # 只匹配单独的 0 或 1\n",
    "            print(f\"raw_output: {raw_output}; matched labels: {matches}\")\n",
    "\n",
    "            if matches:\n",
    "                return int(matches[-1])  # 返回最后一个匹配到的 0 或 1\n",
    "\n",
    "            raise ValueError(f\"输出格式不符合要求，未找到 0 或 1: {raw_output}\")\n",
    "\n",
    "        except Exception as e:\n",
    "            if attempt == max_retries:\n",
    "                raise RuntimeError(f\"API 调用失败 {max_retries} 次，最终错误: {str(e)}\")\n",
    "\n",
    "            # 计算二进制指数退避时间\n",
    "            delay = min(base_delay * (2 ** attempt), max_delay)\n",
    "            jitter = random.uniform(0.5, 1.5)  # 添加抖动，防止过载\n",
    "            sleep_time = delay * jitter\n",
    "\n",
    "            print(f\"尝试 {attempt+1}/{max_retries} 失败，等待 {sleep_time:.2f}s: {str(e)}\")\n",
    "            time.sleep(sleep_time)\n",
    "            attempt += 1\n"
   ],
   "id": "8f8ed343f127e14b",
   "outputs": [],
   "execution_count": 34
  },
  {
   "metadata": {
    "ExecuteTime": {
     "end_time": "2025-03-02T02:05:44.268603Z",
     "start_time": "2025-03-02T02:05:44.261526Z"
    }
   },
   "cell_type": "code",
   "source": [
    "def process_dataset(dataset):\n",
    "    \"\"\"处理数据集，调用 API 获取预测结果\"\"\"\n",
    "    predictions = []\n",
    "    for idx,sample in enumerate(dataset):\n",
    "        sample_text = sample['sentence']\n",
    "        prompt = build_prompt(sample_text)\n",
    "        print(f\"当前处理{idx}\")\n",
    "        predicted_label = get_prediction(prompt)\n",
    "        predictions.append((sample['idx'], predicted_label))\n",
    "    return predictions"
   ],
   "id": "ddcef77a5c0359a3",
   "outputs": [],
   "execution_count": 35
  },
  {
   "metadata": {
    "ExecuteTime": {
     "end_time": "2025-03-02T02:05:46.243862Z",
     "start_time": "2025-03-02T02:05:46.226792Z"
    }
   },
   "cell_type": "code",
   "source": [
    "import zipfile\n",
    "import pandas as pd\n",
    "\n",
    "def save_submission(predictions, filename=\"submission.zip\"):\n",
    "    \"\"\"保存预测结果为 GLUE 评测要求的 TSV 格式，并打包 ZIP 文件\"\"\"\n",
    "    submission = pd.DataFrame(predictions, columns=[\"id\", \"label\"])\n",
    "    submission.to_csv(\"SST-2.tsv\", sep=\"\\t\", index=False)\n",
    "\n",
    "    with zipfile.ZipFile(filename, \"w\") as zipf:\n",
    "        zipf.write(\"SST-2.tsv\", arcname=\"SST-2.tsv\")\n",
    "\n",
    "    print(f\"提交文件已生成并压缩为 {filename}\")"
   ],
   "id": "59594ec61acccd51",
   "outputs": [],
   "execution_count": 36
  },
  {
   "metadata": {
    "jupyter": {
     "is_executing": true
    },
    "ExecuteTime": {
     "start_time": "2025-03-02T02:05:48.419986Z"
    }
   },
   "cell_type": "code",
   "source": [
    "    # 处理测试集\n",
    "predictions = process_dataset(test_dataset)\n",
    "# 保存预测结果\n",
    "save_submission(predictions)"
   ],
   "id": "4dceb927078e3d12",
   "outputs": [
    {
     "name": "stdout",
     "output_type": "stream",
     "text": [
      "当前处理0\n",
      "raw_output: 0; matched labels: ['0']\n",
      "当前处理1\n",
      "raw_output: 0; matched labels: ['0']\n",
      "当前处理2\n"
     ]
    }
   ],
   "execution_count": null
  }
 ],
 "metadata": {
  "kernelspec": {
   "display_name": "Python 3",
   "language": "python",
   "name": "python3"
  },
  "language_info": {
   "codemirror_mode": {
    "name": "ipython",
    "version": 2
   },
   "file_extension": ".py",
   "mimetype": "text/x-python",
   "name": "python",
   "nbconvert_exporter": "python",
   "pygments_lexer": "ipython2",
   "version": "2.7.6"
  }
 },
 "nbformat": 4,
 "nbformat_minor": 5
}
